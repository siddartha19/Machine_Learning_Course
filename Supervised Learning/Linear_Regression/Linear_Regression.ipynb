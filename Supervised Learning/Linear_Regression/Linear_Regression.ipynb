{
  "nbformat": 4,
  "nbformat_minor": 0,
  "metadata": {
    "colab": {
      "name": "Linear_Regression.ipynb",
      "version": "0.3.2",
      "provenance": [],
      "collapsed_sections": []
    },
    "kernelspec": {
      "name": "python3",
      "display_name": "Python 3"
    }
  },
  "cells": [
    {
      "cell_type": "markdown",
      "metadata": {
        "id": "Tvd3i_7BCMWb",
        "colab_type": "text"
      },
      "source": [
        "# Linear Regression Tutorial"
      ]
    },
    {
      "cell_type": "markdown",
      "metadata": {
        "id": "VgKTIfnN-hQp",
        "colab_type": "text"
      },
      "source": [
        "## Regression\n",
        "\n",
        "<font color='mediumspringgreen'>**Regression analysis**</font>  is one of the most important fields in statistics and machine learning. There are many regression methods available. Linear regression is one of them.\n",
        "\n",
        "\n"
      ]
    },
    {
      "cell_type": "markdown",
      "metadata": {
        "id": "hV2bW3D8_O3D",
        "colab_type": "text"
      },
      "source": [
        "## Regression ?\n",
        "\n",
        "#### Regression searches for relationships among variables.\n",
        "\n",
        "For example, you can observe several employees of some company and try to understand how their salaries depend on the features, such as experience, level of education, role, city they work in, and so on.\n",
        "\n",
        "This is a regression problem where data related to each employee represent one observation. The presumption is that the experience, education, role, and city are the independent features, while the salary depends on them.\n",
        "\n",
        "Similarly, you can try to establish a mathematical dependence of the prices of houses on their areas, numbers of bedrooms, distances to the city center, and so on.\n",
        "\n",
        "Generally, in regression analysis, you usually consider some phenomenon of interest and have a number of observations. Each observation has two or more features. Following the assumption that (at least) one of the features depends on the others, you try to establish a relation among them.\n",
        "\n",
        "In other words, <font color='red'>you need to find a function that maps some features or variables to others sufficiently well</font>.\n",
        "\n",
        "The dependent features are called the **dependent variables**, **outputs**, or **responses**.\n",
        "\n",
        "The independent features are called the **independent variables**, **inputs**, or **predictors**.\n",
        "\n",
        "**Regression problems usually have one continuous and unbounded dependent variable. The inputs, however, can be continuous, discrete, or even categorical data such as gender, nationality, brand, and so on**.\n",
        "\n",
        "It is a common practice to denote the outputs with 𝑦 and inputs with 𝑥. If there are two or more independent variables, they can be represented as the vector 𝐱 = (𝑥₁, …, 𝑥ᵣ), where 𝑟 is the number of inputs."
      ]
    },
    {
      "cell_type": "markdown",
      "metadata": {
        "id": "CWllcSjtAHmp",
        "colab_type": "text"
      },
      "source": [
        "## When Do You Need Regression?\n",
        "Typically, you need regression to answer whether and how some phenomenon influences the other or how several variables are related. For example, you can use it to determine if and to what extent the experience or gender impact salaries.\n",
        "\n",
        "Regression is also useful when you want to forecast a response using a new set of predictors. For example, you could try to predict electricity consumption of a household for the next hour given the outdoor temperature, time of day, and number of residents in that household.\n",
        "\n",
        "Regression is used in many different fields: economy, computer science, social sciences, and so on. Its importance rises every day with the availability of large amounts of data and increased awareness of the practical value of data."
      ]
    },
    {
      "cell_type": "markdown",
      "metadata": {
        "id": "qHXmWu_7ActL",
        "colab_type": "text"
      },
      "source": [
        "## Linear Regression\n",
        "\n",
        "Linear regression is probably one of the most important and widely used regression techniques. It’s among the simplest regression methods. One of its main advantages is the ease of interpreting results.\n",
        "\n",
        "### Problem Formulation\n",
        "\n",
        "When implementing linear regression of some dependent variable 𝑦 on the set of independent variables **𝐱 = (𝑥₁, …, 𝑥ᵣ)**, where 𝑟 is the number of predictors, you assume a linear relationship between **𝑦** and **𝐱: 𝑦 = 𝛽₀ + 𝛽₁𝑥₁ + ⋯ + 𝛽ᵣ𝑥ᵣ + 𝜀**. This equation is the regression equation. **𝛽₀, 𝛽₁, …, 𝛽ᵣ** are the regression coefficients, and 𝜀 is the random error.\n",
        "\n",
        "Linear regression calculates the estimators of the regression coefficients or simply the predicted weights, denoted with **𝑏₀, 𝑏₁, …, 𝑏ᵣ**. They define the estimated regression function **𝑓(𝐱) = 𝑏₀ + 𝑏₁𝑥₁ + ⋯ + 𝑏ᵣ𝑥**ᵣ. This function should capture the dependencies between the inputs and output sufficiently well.\n",
        "\n",
        "The estimated or predicted response, **𝑓(𝐱ᵢ)**, for each observation **𝑖 = 1, …, 𝑛**, should be as close as possible to the corresponding actual response 𝑦ᵢ. The differences **𝑦ᵢ - 𝑓(𝐱ᵢ)** for all observations **𝑖 = 1, …, 𝑛,** are called the residuals. Regression is about determining the best predicted weights, that is the weights corresponding to the smallest residuals.\n",
        "\n",
        "To get the best weights, you usually minimize the sum of squared residuals (SSR) for all observations **𝑖 = 1, …, 𝑛: SSR = Σᵢ(𝑦ᵢ - 𝑓(𝐱ᵢ))²**. This approach is called the method of ordinary least squares."
      ]
    },
    {
      "cell_type": "markdown",
      "metadata": {
        "id": "ApJwkGTWBLW9",
        "colab_type": "text"
      },
      "source": [
        "## Regression Performance\n",
        "\n",
        "The variation of actual responses **𝑦ᵢ, 𝑖 = 1, …, 𝑛**, occurs partly due to the dependence on the predictors 𝐱ᵢ. However, there is also an additional inherent variance of the output.\n",
        "\n",
        "The coefficient of determination, denoted as **𝑅²**, tells you which amount of variation in 𝑦 can be explained by the dependence on 𝐱 using the particular regression model. Larger **𝑅²** indicates a better fit and means that the model can better explain the variation of the output with different inputs.\n",
        "\n",
        "The value **𝑅² = 1** corresponds to **SSR = 0,** that is to the perfect fit since the values of predicted and actual responses fit completely to each other."
      ]
    },
    {
      "cell_type": "markdown",
      "metadata": {
        "id": "QHMm6pt8BxS0",
        "colab_type": "text"
      },
      "source": [
        "## Simple Linear Regression\n",
        "\n",
        "Simple or single-variate linear regression is the simplest case of linear regression with a single independent variable, **𝐱 = 𝑥.**\n",
        "\n",
        "The following figure illustrates simple linear regression:\n",
        "![alt text](https://files.realpython.com/media/fig-lin-reg.a506035b654a.png)\n",
        "\n",
        "### Example of simple linear regression\n",
        "When implementing simple linear regression, you typically start with a given set of input-output (𝑥-𝑦) pairs (green circles). These pairs are your observations. For example, the leftmost observation (green circle) has the input 𝑥 = 5 and the actual output (response) 𝑦 = 5. The next one has 𝑥 = 15 and 𝑦 = 20, and so on.\n",
        "\n",
        "The estimated regression function (black line) has the equation 𝑓(𝑥) = 𝑏₀ + 𝑏₁𝑥. Your goal is to calculate the optimal values of the predicted weights 𝑏₀ and 𝑏₁ that minimize SSR and determine the estimated regression function. The value of 𝑏₀, also called the intercept, shows the point where the estimated regression line crosses the 𝑦 axis. It is the value of the estimated response 𝑓(𝑥) for 𝑥 = 0. The value of 𝑏₁ determines the slope of the estimated regression line.\n",
        "\n",
        "The predicted responses (red squares) are the points on the regression line that correspond to the input values. For example, for the input 𝑥 = 5, the predicted response is 𝑓(5) = 8.33 (represented with the leftmost red square).\n",
        "\n",
        "The residuals (vertical dashed gray lines) can be calculated as 𝑦ᵢ - 𝑓(𝐱ᵢ) = 𝑦ᵢ - 𝑏₀ - 𝑏₁𝑥ᵢ for 𝑖 = 1, …, 𝑛. They are the distances between the green circles and red squares. When you implement linear regression, you are actually trying to minimize these distances and make the red squares as close to the predefined green circles as possible."
      ]
    },
    {
      "cell_type": "code",
      "metadata": {
        "id": "R3b0vvvL6w-R",
        "colab_type": "code",
        "colab": {}
      },
      "source": [
        ""
      ],
      "execution_count": 0,
      "outputs": []
    },
    {
      "cell_type": "markdown",
      "metadata": {
        "id": "xvtVEeAjCVVX",
        "colab_type": "text"
      },
      "source": [
        "## Let's Implement Linear Regression"
      ]
    },
    {
      "cell_type": "markdown",
      "metadata": {
        "id": "Ejz7Om2vOH6U",
        "colab_type": "text"
      },
      "source": [
        "## Importing Libraries"
      ]
    },
    {
      "cell_type": "code",
      "metadata": {
        "id": "EwYkonzb6xEz",
        "colab_type": "code",
        "colab": {}
      },
      "source": [
        "import matplotlib.pylab as plt\n",
        "import seaborn as sns\n",
        "import numpy as np\n",
        "%matplotlib inline\n",
        "import pandas as pd\n",
        "from sklearn.linear_model import LinearRegression\n",
        "from sklearn import datasets"
      ],
      "execution_count": 0,
      "outputs": []
    },
    {
      "cell_type": "markdown",
      "metadata": {
        "id": "Dx1Uz9kyOWhM",
        "colab_type": "text"
      },
      "source": [
        "### Load Dataset"
      ]
    },
    {
      "cell_type": "code",
      "metadata": {
        "id": "woFJMmzZ6xLx",
        "colab_type": "code",
        "colab": {}
      },
      "source": [
        "diabetes = datasets.load_diabetes()"
      ],
      "execution_count": 0,
      "outputs": []
    },
    {
      "cell_type": "markdown",
      "metadata": {
        "id": "w0YaKW89OZ0U",
        "colab_type": "text"
      },
      "source": [
        "## Description of the dataset"
      ]
    },
    {
      "cell_type": "code",
      "metadata": {
        "id": "eafyddVn6xSv",
        "colab_type": "code",
        "colab": {
          "base_uri": "https://localhost:8080/",
          "height": 655
        },
        "outputId": "7f6ee26d-aaf0-4c7d-bd05-43b14960cb2d"
      },
      "source": [
        "print(diabetes.DESCR)"
      ],
      "execution_count": 61,
      "outputs": [
        {
          "output_type": "stream",
          "text": [
            ".. _diabetes_dataset:\n",
            "\n",
            "Diabetes dataset\n",
            "----------------\n",
            "\n",
            "Ten baseline variables, age, sex, body mass index, average blood\n",
            "pressure, and six blood serum measurements were obtained for each of n =\n",
            "442 diabetes patients, as well as the response of interest, a\n",
            "quantitative measure of disease progression one year after baseline.\n",
            "\n",
            "**Data Set Characteristics:**\n",
            "\n",
            "  :Number of Instances: 442\n",
            "\n",
            "  :Number of Attributes: First 10 columns are numeric predictive values\n",
            "\n",
            "  :Target: Column 11 is a quantitative measure of disease progression one year after baseline\n",
            "\n",
            "  :Attribute Information:\n",
            "      - Age\n",
            "      - Sex\n",
            "      - Body mass index\n",
            "      - Average blood pressure\n",
            "      - S1\n",
            "      - S2\n",
            "      - S3\n",
            "      - S4\n",
            "      - S5\n",
            "      - S6\n",
            "\n",
            "Note: Each of these 10 feature variables have been mean centered and scaled by the standard deviation times `n_samples` (i.e. the sum of squares of each column totals 1).\n",
            "\n",
            "Source URL:\n",
            "https://www4.stat.ncsu.edu/~boos/var.select/diabetes.html\n",
            "\n",
            "For more information see:\n",
            "Bradley Efron, Trevor Hastie, Iain Johnstone and Robert Tibshirani (2004) \"Least Angle Regression,\" Annals of Statistics (with discussion), 407-499.\n",
            "(https://web.stanford.edu/~hastie/Papers/LARS/LeastAngle_2002.pdf)\n"
          ],
          "name": "stdout"
        }
      ]
    },
    {
      "cell_type": "markdown",
      "metadata": {
        "id": "ZkZVDRbYOf0h",
        "colab_type": "text"
      },
      "source": [
        "## Size of the dataset"
      ]
    },
    {
      "cell_type": "code",
      "metadata": {
        "id": "uYU8Djc-6xR-",
        "colab_type": "code",
        "colab": {
          "base_uri": "https://localhost:8080/",
          "height": 34
        },
        "outputId": "630f108c-4a3d-45c9-f42e-24cbb8cae16a"
      },
      "source": [
        "diabetes.data.shape"
      ],
      "execution_count": 62,
      "outputs": [
        {
          "output_type": "execute_result",
          "data": {
            "text/plain": [
              "(442, 10)"
            ]
          },
          "metadata": {
            "tags": []
          },
          "execution_count": 62
        }
      ]
    },
    {
      "cell_type": "markdown",
      "metadata": {
        "id": "sJfgpXuCOlyQ",
        "colab_type": "text"
      },
      "source": [
        "## Target size"
      ]
    },
    {
      "cell_type": "code",
      "metadata": {
        "id": "RKLvZjvE6xK_",
        "colab_type": "code",
        "colab": {
          "base_uri": "https://localhost:8080/",
          "height": 34
        },
        "outputId": "1dfdf82e-0877-412c-bb12-17eb58155413"
      },
      "source": [
        "diabetes.target.shape"
      ],
      "execution_count": 63,
      "outputs": [
        {
          "output_type": "execute_result",
          "data": {
            "text/plain": [
              "(442,)"
            ]
          },
          "metadata": {
            "tags": []
          },
          "execution_count": 63
        }
      ]
    },
    {
      "cell_type": "markdown",
      "metadata": {
        "id": "gSwv1mfCOpmC",
        "colab_type": "text"
      },
      "source": [
        "## Features "
      ]
    },
    {
      "cell_type": "code",
      "metadata": {
        "id": "AYpPbXCr6xEB",
        "colab_type": "code",
        "colab": {
          "base_uri": "https://localhost:8080/",
          "height": 34
        },
        "outputId": "4e3e61e2-2469-4305-b5a8-9e42dc2a045e"
      },
      "source": [
        "diabetes.feature_names"
      ],
      "execution_count": 64,
      "outputs": [
        {
          "output_type": "execute_result",
          "data": {
            "text/plain": [
              "['age', 'sex', 'bmi', 'bp', 's1', 's2', 's3', 's4', 's5', 's6']"
            ]
          },
          "metadata": {
            "tags": []
          },
          "execution_count": 64
        }
      ]
    },
    {
      "cell_type": "markdown",
      "metadata": {
        "id": "Ho8H7tnfOorm",
        "colab_type": "text"
      },
      "source": [
        "## Converting into a data frame"
      ]
    },
    {
      "cell_type": "code",
      "metadata": {
        "id": "eMO014Rx6w9h",
        "colab_type": "code",
        "colab": {}
      },
      "source": [
        "df = pd.DataFrame(data= np.c_[diabetes['data'], diabetes['target']],\n",
        "                     columns= diabetes['feature_names'] + ['target'])"
      ],
      "execution_count": 0,
      "outputs": []
    },
    {
      "cell_type": "markdown",
      "metadata": {
        "id": "8lWitJJmOx9j",
        "colab_type": "text"
      },
      "source": [
        "## Data"
      ]
    },
    {
      "cell_type": "code",
      "metadata": {
        "id": "qCewfSet6w2P",
        "colab_type": "code",
        "colab": {
          "base_uri": "https://localhost:8080/",
          "height": 195
        },
        "outputId": "eb778fb4-6c02-47f0-8fdf-08f64ee45ba3"
      },
      "source": [
        "df.head()"
      ],
      "execution_count": 66,
      "outputs": [
        {
          "output_type": "execute_result",
          "data": {
            "text/html": [
              "<div>\n",
              "<style scoped>\n",
              "    .dataframe tbody tr th:only-of-type {\n",
              "        vertical-align: middle;\n",
              "    }\n",
              "\n",
              "    .dataframe tbody tr th {\n",
              "        vertical-align: top;\n",
              "    }\n",
              "\n",
              "    .dataframe thead th {\n",
              "        text-align: right;\n",
              "    }\n",
              "</style>\n",
              "<table border=\"1\" class=\"dataframe\">\n",
              "  <thead>\n",
              "    <tr style=\"text-align: right;\">\n",
              "      <th></th>\n",
              "      <th>age</th>\n",
              "      <th>sex</th>\n",
              "      <th>bmi</th>\n",
              "      <th>bp</th>\n",
              "      <th>s1</th>\n",
              "      <th>s2</th>\n",
              "      <th>s3</th>\n",
              "      <th>s4</th>\n",
              "      <th>s5</th>\n",
              "      <th>s6</th>\n",
              "      <th>target</th>\n",
              "    </tr>\n",
              "  </thead>\n",
              "  <tbody>\n",
              "    <tr>\n",
              "      <th>0</th>\n",
              "      <td>0.038076</td>\n",
              "      <td>0.050680</td>\n",
              "      <td>0.061696</td>\n",
              "      <td>0.021872</td>\n",
              "      <td>-0.044223</td>\n",
              "      <td>-0.034821</td>\n",
              "      <td>-0.043401</td>\n",
              "      <td>-0.002592</td>\n",
              "      <td>0.019908</td>\n",
              "      <td>-0.017646</td>\n",
              "      <td>151.0</td>\n",
              "    </tr>\n",
              "    <tr>\n",
              "      <th>1</th>\n",
              "      <td>-0.001882</td>\n",
              "      <td>-0.044642</td>\n",
              "      <td>-0.051474</td>\n",
              "      <td>-0.026328</td>\n",
              "      <td>-0.008449</td>\n",
              "      <td>-0.019163</td>\n",
              "      <td>0.074412</td>\n",
              "      <td>-0.039493</td>\n",
              "      <td>-0.068330</td>\n",
              "      <td>-0.092204</td>\n",
              "      <td>75.0</td>\n",
              "    </tr>\n",
              "    <tr>\n",
              "      <th>2</th>\n",
              "      <td>0.085299</td>\n",
              "      <td>0.050680</td>\n",
              "      <td>0.044451</td>\n",
              "      <td>-0.005671</td>\n",
              "      <td>-0.045599</td>\n",
              "      <td>-0.034194</td>\n",
              "      <td>-0.032356</td>\n",
              "      <td>-0.002592</td>\n",
              "      <td>0.002864</td>\n",
              "      <td>-0.025930</td>\n",
              "      <td>141.0</td>\n",
              "    </tr>\n",
              "    <tr>\n",
              "      <th>3</th>\n",
              "      <td>-0.089063</td>\n",
              "      <td>-0.044642</td>\n",
              "      <td>-0.011595</td>\n",
              "      <td>-0.036656</td>\n",
              "      <td>0.012191</td>\n",
              "      <td>0.024991</td>\n",
              "      <td>-0.036038</td>\n",
              "      <td>0.034309</td>\n",
              "      <td>0.022692</td>\n",
              "      <td>-0.009362</td>\n",
              "      <td>206.0</td>\n",
              "    </tr>\n",
              "    <tr>\n",
              "      <th>4</th>\n",
              "      <td>0.005383</td>\n",
              "      <td>-0.044642</td>\n",
              "      <td>-0.036385</td>\n",
              "      <td>0.021872</td>\n",
              "      <td>0.003935</td>\n",
              "      <td>0.015596</td>\n",
              "      <td>0.008142</td>\n",
              "      <td>-0.002592</td>\n",
              "      <td>-0.031991</td>\n",
              "      <td>-0.046641</td>\n",
              "      <td>135.0</td>\n",
              "    </tr>\n",
              "  </tbody>\n",
              "</table>\n",
              "</div>"
            ],
            "text/plain": [
              "        age       sex       bmi        bp  ...        s4        s5        s6  target\n",
              "0  0.038076  0.050680  0.061696  0.021872  ... -0.002592  0.019908 -0.017646   151.0\n",
              "1 -0.001882 -0.044642 -0.051474 -0.026328  ... -0.039493 -0.068330 -0.092204    75.0\n",
              "2  0.085299  0.050680  0.044451 -0.005671  ... -0.002592  0.002864 -0.025930   141.0\n",
              "3 -0.089063 -0.044642 -0.011595 -0.036656  ...  0.034309  0.022692 -0.009362   206.0\n",
              "4  0.005383 -0.044642 -0.036385  0.021872  ... -0.002592 -0.031991 -0.046641   135.0\n",
              "\n",
              "[5 rows x 11 columns]"
            ]
          },
          "metadata": {
            "tags": []
          },
          "execution_count": 66
        }
      ]
    },
    {
      "cell_type": "markdown",
      "metadata": {
        "id": "3E3O3iF-O2dv",
        "colab_type": "text"
      },
      "source": [
        "## Dataset Information"
      ]
    },
    {
      "cell_type": "code",
      "metadata": {
        "id": "fPCV4wjLEzji",
        "colab_type": "code",
        "colab": {
          "base_uri": "https://localhost:8080/",
          "height": 286
        },
        "outputId": "d6830dbf-6d9b-4005-ee1f-665372ed9e2b"
      },
      "source": [
        "df.info()"
      ],
      "execution_count": 67,
      "outputs": [
        {
          "output_type": "stream",
          "text": [
            "<class 'pandas.core.frame.DataFrame'>\n",
            "RangeIndex: 442 entries, 0 to 441\n",
            "Data columns (total 11 columns):\n",
            "age       442 non-null float64\n",
            "sex       442 non-null float64\n",
            "bmi       442 non-null float64\n",
            "bp        442 non-null float64\n",
            "s1        442 non-null float64\n",
            "s2        442 non-null float64\n",
            "s3        442 non-null float64\n",
            "s4        442 non-null float64\n",
            "s5        442 non-null float64\n",
            "s6        442 non-null float64\n",
            "target    442 non-null float64\n",
            "dtypes: float64(11)\n",
            "memory usage: 38.1 KB\n"
          ],
          "name": "stdout"
        }
      ]
    },
    {
      "cell_type": "markdown",
      "metadata": {
        "id": "ZWD-AH6ZGsIW",
        "colab_type": "text"
      },
      "source": [
        "### Linear Regression Model\n",
        "Linear Regression assumes the following model:\n",
        "\n",
        "**y=Xβ+c+ϵ **\n",
        "\n",
        "**X** data\n",
        "\n",
        "**β**  coefficients \n",
        "\n",
        "**c** intercept \n",
        "\n",
        "**ϵ**  error, cannot explained by model \n",
        "\n",
        "**y** target \n",
        "\n",
        "Using scikit-learn, linear regression is very easy:"
      ]
    },
    {
      "cell_type": "markdown",
      "metadata": {
        "id": "irsWb9ZiPB1p",
        "colab_type": "text"
      },
      "source": [
        "## Splitting data into Train(75%) and test(25%)"
      ]
    },
    {
      "cell_type": "code",
      "metadata": {
        "id": "c3cHyvtzG-ot",
        "colab_type": "code",
        "colab": {}
      },
      "source": [
        "\n",
        "from sklearn.model_selection import train_test_split\n",
        "X_train, X_test, y_train, y_test = train_test_split(diabetes.data, diabetes.target, test_size=0.25, random_state=0)\n"
      ],
      "execution_count": 0,
      "outputs": []
    },
    {
      "cell_type": "markdown",
      "metadata": {
        "id": "lIF2aIOHPSJr",
        "colab_type": "text"
      },
      "source": [
        "## Set up the model"
      ]
    },
    {
      "cell_type": "code",
      "metadata": {
        "id": "H5_Cr5yOHBh_",
        "colab_type": "code",
        "colab": {}
      },
      "source": [
        "\n",
        "model = LinearRegression()\n"
      ],
      "execution_count": 0,
      "outputs": []
    },
    {
      "cell_type": "markdown",
      "metadata": {
        "id": "h0ASGdDdPXCH",
        "colab_type": "text"
      },
      "source": [
        "## Fit the model"
      ]
    },
    {
      "cell_type": "code",
      "metadata": {
        "id": "E3wvZoC6HBoc",
        "colab_type": "code",
        "colab": {
          "base_uri": "https://localhost:8080/",
          "height": 34
        },
        "outputId": "a0fe4372-0938-4839-8f0d-e2a3cf0ad962"
      },
      "source": [
        " \n",
        "model.fit(X_train, y_train)"
      ],
      "execution_count": 70,
      "outputs": [
        {
          "output_type": "execute_result",
          "data": {
            "text/plain": [
              "LinearRegression(copy_X=True, fit_intercept=True, n_jobs=None, normalize=False)"
            ]
          },
          "metadata": {
            "tags": []
          },
          "execution_count": 70
        }
      ]
    },
    {
      "cell_type": "markdown",
      "metadata": {
        "id": "-INF57a1P0Ub",
        "colab_type": "text"
      },
      "source": [
        "## Test the model\n",
        "\n",
        "Returns the coefficient of determination R^2 of the prediction.\n",
        "\n",
        "The coefficient R^2 is defined as (1 - u/v), where u is the residual sum of squares ((y_true - y_pred) ** 2).sum() and v is the total sum of squares ((y_true - y_true.mean()) ** 2).sum(). The best possible score is 1.0 and it can be negative (because the model can be arbitrarily worse). A constant model that always predicts the expected value of y, disregarding the input features, would get a R^2 score of 0.0."
      ]
    },
    {
      "cell_type": "code",
      "metadata": {
        "id": "KBnadcTYHBt2",
        "colab_type": "code",
        "colab": {
          "base_uri": "https://localhost:8080/",
          "height": 34
        },
        "outputId": "47925d42-d10b-4d94-e24f-a196364f6bf4"
      },
      "source": [
        "# 3. Check the score\n",
        "model.score(X_test, y_test)"
      ],
      "execution_count": 71,
      "outputs": [
        {
          "output_type": "execute_result",
          "data": {
            "text/plain": [
              "0.35940090989715534"
            ]
          },
          "metadata": {
            "tags": []
          },
          "execution_count": 71
        }
      ]
    },
    {
      "cell_type": "code",
      "metadata": {
        "id": "7EbHGoNzHBng",
        "colab_type": "code",
        "colab": {
          "base_uri": "https://localhost:8080/",
          "height": 67
        },
        "outputId": "277be709-adb4-49c4-9999-bc901eaf2d90"
      },
      "source": [
        "model.coef_ # Get the coefficients, beta"
      ],
      "execution_count": 72,
      "outputs": [
        {
          "output_type": "execute_result",
          "data": {
            "text/plain": [
              "array([ -43.26774487, -208.67053951,  593.39797213,  302.89814903,\n",
              "       -560.27689824,  261.47657106,   -8.83343952,  135.93715156,\n",
              "        703.22658427,   28.34844354])"
            ]
          },
          "metadata": {
            "tags": []
          },
          "execution_count": 72
        }
      ]
    },
    {
      "cell_type": "code",
      "metadata": {
        "id": "V3rotL5DHBg4",
        "colab_type": "code",
        "colab": {
          "base_uri": "https://localhost:8080/",
          "height": 34
        },
        "outputId": "3bb4ac19-cc47-4f1a-9d40-5098570de96f"
      },
      "source": [
        "model.intercept_ # Get the intercept, c"
      ],
      "execution_count": 73,
      "outputs": [
        {
          "output_type": "execute_result",
          "data": {
            "text/plain": [
              "153.06798218266258"
            ]
          },
          "metadata": {
            "tags": []
          },
          "execution_count": 73
        }
      ]
    },
    {
      "cell_type": "code",
      "metadata": {
        "id": "L2WSyEWRIX71",
        "colab_type": "code",
        "colab": {
          "base_uri": "https://localhost:8080/",
          "height": 487
        },
        "outputId": "15349c2d-89d3-4827-8976-91882680692d"
      },
      "source": [
        "model.predict(X_test) # Predict unkown data"
      ],
      "execution_count": 74,
      "outputs": [
        {
          "output_type": "execute_result",
          "data": {
            "text/plain": [
              "array([241.84730258, 250.12303941, 164.96456549, 119.11639346,\n",
              "       188.23120303, 260.56079379, 113.07583812, 190.54117538,\n",
              "       151.8883747 , 236.50848375, 168.76844138, 180.52719713,\n",
              "       109.16037049,  90.20148392, 244.73990469,  90.58113696,\n",
              "       152.51268196,  66.97735025,  98.0467335 , 215.39557064,\n",
              "       197.70737206, 160.9176914 , 162.88584001, 158.25373793,\n",
              "       202.44823294, 168.46663088, 119.87243699,  83.05669211,\n",
              "       189.9839726 , 163.02279586, 177.07828326,  82.6702699 ,\n",
              "       144.53204953, 146.07901596, 141.73841253, 195.18658206,\n",
              "       164.18043648, 189.14768927, 128.13330927, 206.12996392,\n",
              "        82.64273523, 164.94912645, 144.46057692, 182.0519825 ,\n",
              "       178.41355601,  72.5504089 , 142.69750371, 140.43671531,\n",
              "       121.75256103, 233.70553551, 162.07809758,  76.90270416,\n",
              "       155.68916375, 156.64052259, 238.11357481, 175.75735587,\n",
              "       190.82555855, 119.48230582, 131.3142863 , 172.2453037 ,\n",
              "       214.44479397, 171.30900357, 156.69146772, 110.9755974 ,\n",
              "       257.79427463, 154.6473623 ,  81.10560078, 227.26610365,\n",
              "       205.445138  ,  46.92383044,  78.28098211, 131.5335209 ,\n",
              "       105.63850688, 145.15896592, 133.85511669, 189.31799802,\n",
              "        99.29573544, 202.16752252, 221.67724342, 189.36681415,\n",
              "       150.25345002, 208.85311584,  48.03404661, 206.61925845,\n",
              "        76.63162703,  92.70630395, 148.19321808, 194.60105182,\n",
              "       133.07986975, 148.57002105,  97.51272455, 124.56889921,\n",
              "        82.48851826, 151.41937342, 124.81463753, 105.29002279,\n",
              "       236.2130895 , 227.49222218, 128.37518135, 164.29601063,\n",
              "       193.35752892, 111.83831907, 204.3691    ,  84.7480368 ,\n",
              "       217.70082325, 113.6130274 , 221.22851097, 267.69707418,\n",
              "       115.62235754, 113.98308423, 195.01301149])"
            ]
          },
          "metadata": {
            "tags": []
          },
          "execution_count": 74
        }
      ]
    },
    {
      "cell_type": "markdown",
      "metadata": {
        "id": "cTvqrYvuP6Cd",
        "colab_type": "text"
      },
      "source": [
        "## Plot"
      ]
    },
    {
      "cell_type": "code",
      "metadata": {
        "id": "ZmGL3CCmIYCg",
        "colab_type": "code",
        "colab": {
          "base_uri": "https://localhost:8080/",
          "height": 404
        },
        "outputId": "dc4ff778-0f93-4ee6-9427-37ddfbdc0894"
      },
      "source": [
        "plt.figure(figsize=(12,6))\n",
        "plt.style.use('ggplot')\n",
        "# plot prediction and actual data\n",
        "y_pred = model.predict(X_test) \n",
        "plt.plot(y_test, y_pred, 'g.', ms=11)\n",
        "# plot a line, a perfit predict would all fall on this line\n",
        "x = np.linspace(0, 330, 100)\n",
        "y = x\n",
        "plt.plot(x, y)\n",
        "plt.title('Plot between X and y')\n",
        "plt.xlabel('X')\n",
        "plt.ylabel('y')\n",
        "plt.show()"
      ],
      "execution_count": 85,
      "outputs": [
        {
          "output_type": "display_data",
          "data": {
            "image/png": "[encoded data removed]",
            "text/plain": [
              "<Figure size 864x432 with 1 Axes>"
            ]
          },
          "metadata": {
            "tags": []
          }
        }
      ]
    }
  ]
}