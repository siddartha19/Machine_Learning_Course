{
  "nbformat": 4,
  "nbformat_minor": 0,
  "metadata": {
    "colab": {
      "name": "MNIST.ipynb",
      "version": "0.3.2",
      "provenance": [],
      "collapsed_sections": []
    },
    "kernelspec": {
      "name": "python3",
      "display_name": "Python 3"
    }
  },
  "cells": [
    {
      "cell_type": "markdown",
      "metadata": {
        "id": "nPQ1UUMfJQAA",
        "colab_type": "text"
      },
      "source": [
        "# <font color=\"tomato\"> Neural Network </font>"
      ]
    },
    {
      "cell_type": "markdown",
      "metadata": {
        "id": "LMT7Zej2Cy54",
        "colab_type": "text"
      },
      "source": [
        "## Import Libraries"
      ]
    },
    {
      "cell_type": "code",
      "metadata": {
        "id": "e0881JDZCaPG",
        "colab_type": "code",
        "colab": {}
      },
      "source": [
        "import tensorflow as tf\n",
        "import matplotlib.pyplot as plt"
      ],
      "execution_count": 0,
      "outputs": []
    },
    {
      "cell_type": "markdown",
      "metadata": {
        "id": "tnhxZbiaC6yL",
        "colab_type": "text"
      },
      "source": [
        "## Load data"
      ]
    },
    {
      "cell_type": "code",
      "metadata": {
        "id": "YC2jrqMWCaVs",
        "colab_type": "code",
        "colab": {
          "base_uri": "https://localhost:8080/",
          "height": 50
        },
        "outputId": "814b8ae4-bb32-49a2-892a-649b09b9ef30"
      },
      "source": [
        "mnist=tf.keras.datasets.mnist\n",
        "## trainand test\n",
        "(x_train,y_train),(x_test,y_test)=mnist.load_data()"
      ],
      "execution_count": 2,
      "outputs": [
        {
          "output_type": "stream",
          "text": [
            "Downloading data from https://storage.googleapis.com/tensorflow/tf-keras-datasets/mnist.npz\n",
            "11493376/11490434 [==============================] - 0s 0us/step\n"
          ],
          "name": "stdout"
        }
      ]
    },
    {
      "cell_type": "code",
      "metadata": {
        "id": "U3nSer3aCaVA",
        "colab_type": "code",
        "colab": {
          "base_uri": "https://localhost:8080/",
          "height": 269
        },
        "outputId": "a72a706d-978d-4395-d89c-98912db09018"
      },
      "source": [
        "plt.imshow(x_train[26],cmap=plt.cm.binary)\n",
        "plt.show()"
      ],
      "execution_count": 5,
      "outputs": [
        {
          "output_type": "display_data",
          "data": {
            "image/png": "[encoded data removed]",
            "text/plain": [
              "<Figure size 432x288 with 1 Axes>"
            ]
          },
          "metadata": {
            "tags": []
          }
        }
      ]
    },
    {
      "cell_type": "markdown",
      "metadata": {
        "id": "myonR9TUDp6G",
        "colab_type": "text"
      },
      "source": [
        "## Normalize the dataset"
      ]
    },
    {
      "cell_type": "code",
      "metadata": {
        "id": "BzHkcEBACaOV",
        "colab_type": "code",
        "colab": {}
      },
      "source": [
        "\n",
        "x_train = tf.keras.utils.normalize(x_train,axis=1)\n",
        "x_test = tf.keras.utils.normalize(x_test,axis=1)"
      ],
      "execution_count": 0,
      "outputs": []
    },
    {
      "cell_type": "markdown",
      "metadata": {
        "id": "rswgH4uyDzCj",
        "colab_type": "text"
      },
      "source": [
        "## Plot of an image after <font color='tomato'>normalization</font>"
      ]
    },
    {
      "cell_type": "code",
      "metadata": {
        "id": "UJOG5l2UCaHc",
        "colab_type": "code",
        "colab": {
          "base_uri": "https://localhost:8080/",
          "height": 269
        },
        "outputId": "ffb722d7-e851-42aa-ae19-7d1b76343780"
      },
      "source": [
        "plt.imshow(x_train[26],cmap=plt.cm.binary)\n",
        "plt.show()"
      ],
      "execution_count": 7,
      "outputs": [
        {
          "output_type": "display_data",
          "data": {
            "image/png": "[encoded data removed]",
            "text/plain": [
              "<Figure size 432x288 with 1 Axes>"
            ]
          },
          "metadata": {
            "tags": []
          }
        }
      ]
    },
    {
      "cell_type": "markdown",
      "metadata": {
        "id": "m6afcTNREEHB",
        "colab_type": "text"
      },
      "source": [
        ""
      ]
    },
    {
      "cell_type": "markdown",
      "metadata": {
        "id": "_PSXPBhoEEQb",
        "colab_type": "text"
      },
      "source": [
        "## Build model"
      ]
    },
    {
      "cell_type": "code",
      "metadata": {
        "id": "pEmKY1agD82K",
        "colab_type": "code",
        "colab": {}
      },
      "source": [
        "model=tf.keras.models.Sequential()\n",
        "model.add(tf.keras.layers.Flatten())\n",
        "model.add(tf.keras.layers.Dense(128,activation=tf.nn.relu))\n",
        "model.add(tf.keras.layers.Dense(128,activation=tf.nn.relu))\n",
        "model.add(tf.keras.layers.Dense(128,activation=tf.nn.relu))\n",
        "model.add(tf.keras.layers.Dense(128,activation=tf.nn.relu))\n",
        "model.add(tf.keras.layers.Dense(128,activation=tf.nn.relu))\n",
        "model.add(tf.keras.layers.Dense(128,activation=tf.nn.relu))\n",
        "model.add(tf.keras.layers.Dense(10,activation=tf.nn.softmax))"
      ],
      "execution_count": 0,
      "outputs": []
    },
    {
      "cell_type": "markdown",
      "metadata": {
        "id": "QrfeipkLGssV",
        "colab_type": "text"
      },
      "source": [
        "## Compile the model"
      ]
    },
    {
      "cell_type": "code",
      "metadata": {
        "id": "d-OY6e1LGrsn",
        "colab_type": "code",
        "colab": {}
      },
      "source": [
        "model.compile(optimizer='adam',\n",
        "                loss='sparse_categorical_crossentropy', metrics=['accuracy'])"
      ],
      "execution_count": 0,
      "outputs": []
    },
    {
      "cell_type": "markdown",
      "metadata": {
        "id": "uuis7hgyG0bK",
        "colab_type": "text"
      },
      "source": [
        "## Fit the model"
      ]
    },
    {
      "cell_type": "code",
      "metadata": {
        "id": "bLsUNo9BGr3N",
        "colab_type": "code",
        "colab": {
          "base_uri": "https://localhost:8080/",
          "height": 235
        },
        "outputId": "3e584d9b-75a5-48e1-e1f4-6b379aa7021e"
      },
      "source": [
        "model.fit(x_train,y_train,epochs=6)"
      ],
      "execution_count": 34,
      "outputs": [
        {
          "output_type": "stream",
          "text": [
            "Epoch 1/6\n",
            "60000/60000 [==============================] - 6s 102us/sample - loss: 0.2753 - acc: 0.9145\n",
            "Epoch 2/6\n",
            "60000/60000 [==============================] - 6s 100us/sample - loss: 0.1240 - acc: 0.9628\n",
            "Epoch 3/6\n",
            "60000/60000 [==============================] - 6s 99us/sample - loss: 0.0918 - acc: 0.9732\n",
            "Epoch 4/6\n",
            "60000/60000 [==============================] - 6s 99us/sample - loss: 0.0736 - acc: 0.9786\n",
            "Epoch 5/6\n",
            "60000/60000 [==============================] - 6s 101us/sample - loss: 0.0604 - acc: 0.9819\n",
            "Epoch 6/6\n",
            "60000/60000 [==============================] - 6s 100us/sample - loss: 0.0509 - acc: 0.9849\n"
          ],
          "name": "stdout"
        },
        {
          "output_type": "execute_result",
          "data": {
            "text/plain": [
              "<tensorflow.python.keras.callbacks.History at 0x7f05fefb2320>"
            ]
          },
          "metadata": {
            "tags": []
          },
          "execution_count": 34
        }
      ]
    },
    {
      "cell_type": "markdown",
      "metadata": {
        "id": "UmjAlki-EOef",
        "colab_type": "text"
      },
      "source": [
        "## Model Description"
      ]
    },
    {
      "cell_type": "code",
      "metadata": {
        "id": "6NNpQCkfEJu2",
        "colab_type": "code",
        "colab": {
          "base_uri": "https://localhost:8080/",
          "height": 420
        },
        "outputId": "80275629-370b-42fd-c5aa-2be746dbd125"
      },
      "source": [
        "model.summary()"
      ],
      "execution_count": 35,
      "outputs": [
        {
          "output_type": "stream",
          "text": [
            "Model: \"sequential_3\"\n",
            "_________________________________________________________________\n",
            "Layer (type)                 Output Shape              Param #   \n",
            "=================================================================\n",
            "flatten_3 (Flatten)          multiple                  0         \n",
            "_________________________________________________________________\n",
            "dense_14 (Dense)             multiple                  100480    \n",
            "_________________________________________________________________\n",
            "dense_15 (Dense)             multiple                  16512     \n",
            "_________________________________________________________________\n",
            "dense_16 (Dense)             multiple                  16512     \n",
            "_________________________________________________________________\n",
            "dense_17 (Dense)             multiple                  16512     \n",
            "_________________________________________________________________\n",
            "dense_18 (Dense)             multiple                  16512     \n",
            "_________________________________________________________________\n",
            "dense_19 (Dense)             multiple                  16512     \n",
            "_________________________________________________________________\n",
            "dense_20 (Dense)             multiple                  1290      \n",
            "=================================================================\n",
            "Total params: 184,330\n",
            "Trainable params: 184,330\n",
            "Non-trainable params: 0\n",
            "_________________________________________________________________\n"
          ],
          "name": "stdout"
        }
      ]
    },
    {
      "cell_type": "markdown",
      "metadata": {
        "id": "9QZlsW_dENgS",
        "colab_type": "text"
      },
      "source": [
        "## Loss and Acccuracy"
      ]
    },
    {
      "cell_type": "code",
      "metadata": {
        "id": "-BLfOJu4InYe",
        "colab_type": "code",
        "colab": {
          "base_uri": "https://localhost:8080/",
          "height": 67
        },
        "outputId": "3ece7cd8-7fbb-4039-9acc-2dcec74869d5"
      },
      "source": [
        "val_loss,val_acc=model.evaluate(x_test,y_test)\n",
        "print(f\"Loss: {val_loss}\\nAccuracy: {val_acc}\")"
      ],
      "execution_count": 39,
      "outputs": [
        {
          "output_type": "stream",
          "text": [
            "10000/10000 [==============================] - 0s 39us/sample - loss: 0.1027 - acc: 0.9750\n",
            "Loss: 0.10267942185280844\n",
            "Accuracy: 0.9750000238418579\n"
          ],
          "name": "stdout"
        }
      ]
    },
    {
      "cell_type": "markdown",
      "metadata": {
        "id": "NuUBWjQIIv7-",
        "colab_type": "text"
      },
      "source": [
        "# predict"
      ]
    },
    {
      "cell_type": "code",
      "metadata": {
        "id": "6ojzPgmzIvIS",
        "colab_type": "code",
        "colab": {
          "base_uri": "https://localhost:8080/",
          "height": 286
        },
        "outputId": "2b53956e-cac6-4102-f148-a8a19aa30c16"
      },
      "source": [
        "pred=model.predict([x_test])\n",
        "import numpy as np\n",
        "print(np.argmax(pred[0]))\n",
        "\n",
        "# Seee the plot/image\n",
        "plt.imshow(x_test[0],cmap=plt.cm.binary)\n",
        "plt.show()"
      ],
      "execution_count": 37,
      "outputs": [
        {
          "output_type": "stream",
          "text": [
            "7\n"
          ],
          "name": "stdout"
        },
        {
          "output_type": "display_data",
          "data": {
            "image/png": "[encoded data removed]",
            "text/plain": [
              "<Figure size 432x288 with 1 Axes>"
            ]
          },
          "metadata": {
            "tags": []
          }
        }
      ]
    }
  ]
}